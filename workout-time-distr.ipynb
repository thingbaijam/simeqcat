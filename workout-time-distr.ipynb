{
 "cells": [
  {
   "cell_type": "code",
   "execution_count": 1,
   "id": "c0bbc1b6",
   "metadata": {},
   "outputs": [],
   "source": [
    "import src.datetimedistr as td"
   ]
  },
  {
   "cell_type": "markdown",
   "id": "3201b02f",
   "metadata": {},
   "source": [
    "## Random Date and Time \n",
    "\n",
    "Assuming quasi-Poissonian process. "
   ]
  },
  {
   "cell_type": "code",
   "execution_count": 2,
   "id": "1b52d808",
   "metadata": {},
   "outputs": [
    {
     "name": "stdout",
     "output_type": "stream",
     "text": [
      "1974 10 16 00 37\n",
      "1976 02 27 20 46\n",
      "1976 08 01 13 31\n",
      "1976 12 09 10 21\n",
      "1977 04 18 19 14\n",
      "1977 12 19 20 44\n",
      "1983 06 01 22 04\n",
      "1984 03 10 10 03\n",
      "1984 07 10 06 31\n",
      "1984 08 06 13 36\n",
      "1985 05 07 11 07\n",
      "1986 05 03 14 00\n",
      "1986 09 16 18 49\n",
      "1989 02 28 05 49\n",
      "1989 08 30 09 03\n",
      "1990 02 12 05 02\n",
      "1990 10 17 23 29\n",
      "1991 11 14 12 33\n",
      "1993 05 05 08 49\n",
      "1994 06 24 14 12\n",
      "1994 06 28 09 39\n",
      "1996 03 18 17 08\n",
      "2001 05 18 05 51\n",
      "2001 06 01 08 41\n",
      "2001 07 06 18 45\n",
      "2002 03 18 15 57\n",
      "2002 10 11 10 11\n",
      "2003 12 28 12 13\n",
      "2005 10 13 20 22\n",
      "2007 01 26 20 57\n",
      "2008 03 31 14 54\n",
      "2010 12 16 00 48\n",
      "2011 05 11 04 40\n",
      "2011 07 22 15 49\n",
      "2015 08 19 23 33\n",
      "2016 03 18 11 20\n",
      "2017 09 01 01 35\n",
      "2018 07 07 14 19\n",
      "2020 04 18 07 00\n",
      "2020 05 18 16 13\n"
     ]
    }
   ],
   "source": [
    "nevents = 40\n",
    "min_year = 1970\n",
    "max_year = 2020\n",
    "event_dates = td.generate_random_datetimes(min_year, max_year, nevents)\n",
    "\n",
    "for sdate in event_dates:\n",
    "    print(sdate.year,str(sdate.month).zfill(2), str(sdate.day).zfill(2), \\\n",
    "          str(sdate.hour).zfill(2), str(sdate.minute).zfill(2))\n"
   ]
  },
  {
   "cell_type": "code",
   "execution_count": null,
   "id": "b5e2b923",
   "metadata": {},
   "outputs": [],
   "source": []
  }
 ],
 "metadata": {
  "kernelspec": {
   "display_name": "Python 3 (ipykernel)",
   "language": "python",
   "name": "python3"
  },
  "language_info": {
   "codemirror_mode": {
    "name": "ipython",
    "version": 3
   },
   "file_extension": ".py",
   "mimetype": "text/x-python",
   "name": "python",
   "nbconvert_exporter": "python",
   "pygments_lexer": "ipython3",
   "version": "3.8.12"
  }
 },
 "nbformat": 4,
 "nbformat_minor": 5
}

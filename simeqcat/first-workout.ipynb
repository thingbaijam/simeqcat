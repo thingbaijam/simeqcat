{
 "cells": [
  {
   "cell_type": "code",
   "execution_count": 1,
   "id": "8cdc76d8",
   "metadata": {},
   "outputs": [],
   "source": [
    "import mfd as mfd\n",
    "from random import choices, seed"
   ]
  },
  {
   "cell_type": "code",
   "execution_count": 2,
   "id": "936ef45e",
   "metadata": {},
   "outputs": [
    {
     "data": {
      "image/png": "[encoded data removed]",
      "text/plain": [
       "<Figure size 432x288 with 1 Axes>"
      ]
     },
     "metadata": {
      "needs_background": "light"
     },
     "output_type": "display_data"
    }
   ],
   "source": [
    "bvalue, avalue, Mmin, Mmax =1.0, 5.0, 5.0, 9.01\n",
    "mags = mfd.test_sample_GRdistr(bvalue, avalue, Mmin, Mmax, nevents=10000, rseed=2222, doplot=True);"
   ]
  },
  {
   "cell_type": "code",
   "execution_count": 3,
   "id": "498f72df",
   "metadata": {},
   "outputs": [],
   "source": [
    "import numpy as np"
   ]
  },
  {
   "cell_type": "code",
   "execution_count": 4,
   "id": "ad58973f",
   "metadata": {},
   "outputs": [
    {
     "data": {
      "text/plain": [
       "0.03720196620680474"
      ]
     },
     "execution_count": 4,
     "metadata": {},
     "output_type": "execute_result"
    }
   ],
   "source": [
    "np.random.normal(scale=0.05, size=1)[0]"
   ]
  },
  {
   "cell_type": "code",
   "execution_count": 5,
   "id": "27902a99",
   "metadata": {},
   "outputs": [],
   "source": [
    "def sample_GRdistr(bvalue, avalue, Mmin, Mmax, \\\n",
    "                   nevents = 1000, mbin=0.1, \\\n",
    "                   rseed=None):\n",
    "    \n",
    "    mags = np.arange(Mmin, Mmax+mbin, mbin)\n",
    "    \n",
    "    N = [10**(avalue-bvalue*mw) for mw in mags]\n",
    "    # weights- is this necessary\n",
    "    probs = [n/sum(N) for n in N]\n",
    "    seed(rseed)\n",
    "    sample_mag = choices(mags, probs, k=nevents)\n",
    "    return sample_mag\n"
   ]
  },
  {
   "cell_type": "code",
   "execution_count": 11,
   "id": "d909d55b",
   "metadata": {},
   "outputs": [],
   "source": [
    "bvalue, avalue, Mmin, Mmax =1.0, 5.0, 5.0, 9.01\n",
    "mags = sample_GRdistr(bvalue, avalue, Mmin, Mmax, \\\n",
    "                   nevents = 100000, mbin=0.001, \\\n",
    "                   rseed=12121);"
   ]
  },
  {
   "cell_type": "code",
   "execution_count": 17,
   "id": "2019b2e2",
   "metadata": {},
   "outputs": [
    {
     "name": "stdout",
     "output_type": "stream",
     "text": [
      "0.9975569350350355\n"
     ]
    }
   ],
   "source": [
    "b = mfd.calc_bvalue(mags, magbin=0.001)\n",
    "b = mfd.calc_avalue(mags, magbin=0.001)\n",
    "print(b)"
   ]
  },
  {
   "cell_type": "code",
   "execution_count": null,
   "id": "379968cb",
   "metadata": {},
   "outputs": [],
   "source": [
    "print(mags)\n",
    "plt.hist(mags)"
   ]
  },
  {
   "cell_type": "code",
   "execution_count": null,
   "id": "fafcbed4",
   "metadata": {},
   "outputs": [],
   "source": []
  },
  {
   "cell_type": "code",
   "execution_count": null,
   "id": "538a7c11",
   "metadata": {},
   "outputs": [],
   "source": [
    "import numpy as np\n",
    "import matplotlib.pyplot as plt"
   ]
  },
  {
   "cell_type": "code",
   "execution_count": null,
   "id": "b692ee4b",
   "metadata": {},
   "outputs": [],
   "source": [
    "mags = np.random.exponential(scale= 0.5/np.log(10), size=100000)\n"
   ]
  },
  {
   "cell_type": "code",
   "execution_count": null,
   "id": "4cde4c79",
   "metadata": {},
   "outputs": [],
   "source": [
    "b = mfd.calc_bvalue(mags, magbin=0.001)"
   ]
  },
  {
   "cell_type": "code",
   "execution_count": null,
   "id": "8d33e4ef",
   "metadata": {},
   "outputs": [],
   "source": [
    "b"
   ]
  },
  {
   "cell_type": "code",
   "execution_count": null,
   "id": "8914ee8e",
   "metadata": {},
   "outputs": [],
   "source": [
    "plt.hist(mags);"
   ]
  },
  {
   "cell_type": "code",
   "execution_count": null,
   "id": "42fba93b",
   "metadata": {},
   "outputs": [],
   "source": [
    "b*np.log(10)"
   ]
  },
  {
   "cell_type": "code",
   "execution_count": null,
   "id": "6e0ab044",
   "metadata": {},
   "outputs": [],
   "source": []
  }
 ],
 "metadata": {
  "kernelspec": {
   "display_name": "Python 3 (ipykernel)",
   "language": "python",
   "name": "python3"
  },
  "language_info": {
   "codemirror_mode": {
    "name": "ipython",
    "version": 3
   },
   "file_extension": ".py",
   "mimetype": "text/x-python",
   "name": "python",
   "nbconvert_exporter": "python",
   "pygments_lexer": "ipython3",
   "version": "3.8.12"
  }
 },
 "nbformat": 4,
 "nbformat_minor": 5
}

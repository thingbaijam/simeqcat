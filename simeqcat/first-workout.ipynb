{
 "cells": [
  {
   "cell_type": "code",
   "execution_count": 1,
   "id": "8cdc76d8",
   "metadata": {},
   "outputs": [],
   "source": [
    "import mfd as mfd\n",
    "from random import choices, seed\n",
    "import matplotlib.pyplot as plt \n",
    "import numpy as np\n",
    "import random\n",
    "from scipy.stats import nbinom, poisson, t as T, sem"
   ]
  },
  {
   "cell_type": "code",
   "execution_count": 2,
   "id": "d909d55b",
   "metadata": {},
   "outputs": [],
   "source": [
    "bvalue, avalue, Mmin, Mmax =1.0, 5.0, 5.0, 8.01\n",
    "mags = mfd.sample_GRdistr(bvalue, avalue, Mmin, Mmax, \\\n",
    "                   nevents = 100000, mbin=0.001, \\\n",
    "                   rseed=12121);"
   ]
  },
  {
   "cell_type": "code",
   "execution_count": 3,
   "id": "2019b2e2",
   "metadata": {},
   "outputs": [
    {
     "name": "stdout",
     "output_type": "stream",
     "text": [
      "1.004541617194354\n"
     ]
    }
   ],
   "source": [
    "Mwr = [round(m, 1) for m in mags]\n",
    "b = mfd.calc_bvalue(Mwr, magbin=0.001)\n",
    "print(b)"
   ]
  },
  {
   "cell_type": "code",
   "execution_count": 4,
   "id": "fafcbed4",
   "metadata": {},
   "outputs": [
    {
     "data": {
      "image/png": "[encoded data removed]",
      "text/plain": [
       "<Figure size 432x288 with 1 Axes>"
      ]
     },
     "metadata": {
      "needs_background": "light"
     },
     "output_type": "display_data"
    }
   ],
   "source": [
    "N, M = mfd.distr_empirical(Mwr, magbin = 0.1, doplot=True);\n",
    "a = mfd.calc_avalue(b, M, N)\n",
    "pN = [10**(a-b*m) for m in M]\n",
    "plt.plot(M, pN, '--');"
   ]
  },
  {
   "cell_type": "code",
   "execution_count": 5,
   "id": "8d33e4ef",
   "metadata": {},
   "outputs": [
    {
     "name": "stdout",
     "output_type": "stream",
     "text": [
      "bvalue = 0.9880769341004382\n",
      "number of events 228\n"
     ]
    }
   ],
   "source": [
    "# 50 years - 5 events yearly \n",
    "#random.seed(1520)\n",
    "#Mw_firstsample = random.choices(Mwr, k=250)\n",
    "#b = mfd.calc_bvalue(Mw_firstsample, magbin=0.001)\n",
    "#print('bvalue=', b)\n",
    "\n",
    "random.seed(1520)\n",
    "N = 50 # number of years\n",
    "n = 5.0 # sort of appr. mean cpount\n",
    "p = 0.5\n",
    "b_negbin_boots = []\n",
    "yearlycount = nbinom.rvs(n=n,p =p, size=N)\n",
    "Mw_firstsample = []\n",
    "for yc in yearlycount:\n",
    "    Mw_firstsample = Mw_firstsample + random.choices(Mwr, k=yc)\n",
    "\n",
    "b = mfd.calc_bvalue(Mw_firstsample, magbin=0.001)\n",
    "print('bvalue =', b)\n",
    "print('number of events', len(Mw_firstsample))"
   ]
  },
  {
   "cell_type": "code",
   "execution_count": 6,
   "id": "d232b234",
   "metadata": {},
   "outputs": [
    {
     "name": "stdout",
     "output_type": "stream",
     "text": [
      "0.9916661556281099\n",
      "0.8692447098156612 1.1327931111605614\n"
     ]
    },
    {
     "data": {
      "image/png": "[encoded data removed]",
      "text/plain": [
       "<Figure size 432x288 with 1 Axes>"
      ]
     },
     "metadata": {
      "needs_background": "light"
     },
     "output_type": "display_data"
    }
   ],
   "source": [
    "# let us see bootstrap b-values\n",
    "b_boots = []\n",
    "nsample = len(Mw_firstsample)\n",
    "for t in range(10000): \n",
    "    Msamp = random.choices(Mw_firstsample, k=nsample)\n",
    "   #  NN, MM = mfd.distr_empirical(Msamp, magbin = 0.1, doplot=False);\n",
    "   #  plt.semilogy(MM, NN, '-');\n",
    "    \n",
    "    b_boots.append(mfd.calc_bvalue(Msamp, magbin=0.001))\n",
    "plt.show()\n",
    "print(np.mean(b_boots))\n",
    "plt.hist(b_boots, 20);\n",
    "\n",
    "ordered = sorted(b_boots)\n",
    "alpha = 0.95\n",
    "lower = np.percentile(ordered, 2.5)\n",
    "upper = np.percentile(ordered, 97.5)\n",
    "print(lower, upper)"
   ]
  },
  {
   "cell_type": "code",
   "execution_count": 7,
   "id": "084349e4",
   "metadata": {},
   "outputs": [
    {
     "name": "stdout",
     "output_type": "stream",
     "text": [
      "0.993169178029603\n",
      "(0.9918739153228328, 0.9944644407363733)\n",
      "0.871182907869724 1.1310288699445372\n"
     ]
    },
    {
     "data": {
      "image/png": "[encoded data removed]",
      "text/plain": [
       "<Figure size 432x288 with 1 Axes>"
      ]
     },
     "metadata": {
      "needs_background": "light"
     },
     "output_type": "display_data"
    }
   ],
   "source": [
    "# let us see negbin bootstrap b-values\n",
    "# generate a negbin counts\n",
    "N = 50 # number of years\n",
    "n = 5.0 # sort of appr. mean cpount\n",
    "p = 0.5\n",
    "\n",
    "b_negbin_boots = []\n",
    "nsample = len(Mw_firstsample)\n",
    "for t in range(10000): \n",
    "    yearlycount = nbinom.rvs(n=n,p =p, size=N)\n",
    "    Msamp = []\n",
    "    for yc in yearlycount:\n",
    "        Msamp = Msamp + random.choices(Mw_firstsample, k=yc)\n",
    "    b_negbin_boots.append(mfd.calc_bvalue(Msamp, magbin=0.001))\n",
    "print(np.mean(b_negbin_boots))\n",
    "plt.hist(b_negbin_boots, 20);\n",
    "#create 95% confidence interval for population mean weight\n",
    "conf = T.interval(alpha=0.95, df=len(b_negbin_boots)-1, loc=np.mean(b_negbin_boots), \\\n",
    "                  scale=sem(b_negbin_boots)) \n",
    "\n",
    "print(conf)\n",
    "\n",
    "ordered = sorted(b_negbin_boots)\n",
    "alpha = 0.95\n",
    "lower = np.percentile(ordered, 2.5)\n",
    "upper = np.percentile(ordered, 97.5)\n",
    "print(lower, upper)"
   ]
  },
  {
   "cell_type": "code",
   "execution_count": 8,
   "id": "8914ee8e",
   "metadata": {},
   "outputs": [
    {
     "name": "stdout",
     "output_type": "stream",
     "text": [
      "0.9924231795929749\n",
      "0.8763674627383227 1.127968223327339\n"
     ]
    },
    {
     "data": {
      "image/png": "[encoded data removed]",
      "text/plain": [
       "<Figure size 432x288 with 1 Axes>"
      ]
     },
     "metadata": {
      "needs_background": "light"
     },
     "output_type": "display_data"
    }
   ],
   "source": [
    "# let us see poss bootstrap b-values\n",
    "# generate a negbin counts\n",
    "N = 50 # number of years\n",
    "mu = 5\n",
    "\n",
    "b_poss_boots = []\n",
    "nsample = len(Mw_firstsample)\n",
    "\n",
    "for t in range(10000): \n",
    "    # generate a poisson random number\n",
    "    yearlycount = poisson.rvs(mu=mu, size=N)\n",
    "    Msamp = []\n",
    "    for yc in yearlycount:\n",
    "        Msamp = Msamp + random.choices(Mw_firstsample, k=yc)\n",
    "    b_poss_boots.append(mfd.calc_bvalue(Msamp, magbin=0.001))\n",
    "print(np.mean(b_poss_boots))\n",
    "plt.hist(b_poss_boots, 20);\n",
    "\n",
    "ordered = sorted(b_poss_boots)\n",
    "alpha = 0.95\n",
    "lower = np.percentile(ordered, 2.5)\n",
    "upper = np.percentile(ordered, 97.5)\n",
    "print(lower, upper)"
   ]
  },
  {
   "cell_type": "code",
   "execution_count": 45,
   "id": "6e0ab044",
   "metadata": {},
   "outputs": [
    {
     "name": "stdout",
     "output_type": "stream",
     "text": [
      "bvalue = 1.0953646358696163\n",
      "number of events 249\n",
      "1.0991770572768578\n",
      "0.9934269463895753 1.2141102101074437\n"
     ]
    },
    {
     "data": {
      "image/png": "[encoded data removed]",
      "text/plain": [
       "<Figure size 432x288 with 1 Axes>"
      ]
     },
     "metadata": {
      "needs_background": "light"
     },
     "output_type": "display_data"
    },
    {
     "name": "stdout",
     "output_type": "stream",
     "text": [
      "boot = 1.0993750985406472\n",
      "0.9946178275725324 1.2147142190510447\n"
     ]
    },
    {
     "data": {
      "image/png": "[encoded data removed]",
      "text/plain": [
       "<Figure size 432x288 with 1 Axes>"
      ]
     },
     "metadata": {
      "needs_background": "light"
     },
     "output_type": "display_data"
    }
   ],
   "source": [
    "# assumuing NegBin >>> Pois \n",
    "\n",
    "# let us see poss bootstrap b-values\n",
    "# generate a negbin counts\n",
    "N = 50 # number of years\n",
    "\n",
    "# 50 years - 5 events yearly \n",
    "#random.seed(1520)\n",
    "#Mw_firstsample = random.choices(Mwr, k=150)\n",
    "#b = mfd.calc_bvalue(Mw_firstsample, magbin=0.001)\n",
    "#print('orgin bvalue=', b)\n",
    "\n",
    "#random.seed(1520)\n",
    "N = 50 # number of years\n",
    "n = 5.0 # sort of appr. mean cpount\n",
    "p = 0.5\n",
    "b_negbin_boots = []\n",
    "yearlycount = nbinom.rvs(n=n,p =p, size=N)\n",
    "Mw_firstsample = []\n",
    "for yc in yearlycount:\n",
    "    Mw_firstsample = Mw_firstsample + random.choices(Mwr, k=yc)\n",
    "\n",
    "b = mfd.calc_bvalue(Mw_firstsample, magbin=0.001)\n",
    "print('bvalue =', b)\n",
    "print('number of events', len(Mw_firstsample))\n",
    "\n",
    "\n",
    "\n",
    "b_boots = []\n",
    "b_poss_boots = []\n",
    "nsample = len(Mw_firstsample)\n",
    "\n",
    "pcounts = poisson.rvs(mu=nsample, size=10000)\n",
    "\n",
    "for pc in pcounts:\n",
    "    # generate a poisson random number\n",
    "    Msamp = random.choices(Mw_firstsample, k=pc)\n",
    "    b_poss_boots.append(mfd.calc_bvalue(Msamp, magbin=0.001))\n",
    "    \n",
    "    Msampboot = random.choices(Mw_firstsample, k=nsample)\n",
    "    b_boots.append(mfd.calc_bvalue(Msampboot, magbin=0.001))\n",
    "    \n",
    "print(np.mean(b_poss_boots))\n",
    "plt.hist(b_poss_boots);\n",
    "\n",
    "ordered = sorted(b_poss_boots)\n",
    "alpha = 0.95\n",
    "lower = np.percentile(ordered, 5)\n",
    "upper = np.percentile(ordered, 95)\n",
    "print(lower, upper)\n",
    "\n",
    "# let us see bootstrap b-values\n",
    "plt.show()\n",
    "print('boot =', np.mean(b_boots))\n",
    "plt.hist(b_boots);\n",
    "\n",
    "ordered = sorted(b_boots)\n",
    "\n",
    "lower = np.percentile(ordered, 5)\n",
    "upper = np.percentile(ordered, 95)\n",
    "print(lower, upper)"
   ]
  },
  {
   "cell_type": "code",
   "execution_count": 54,
   "id": "e4929e5c",
   "metadata": {},
   "outputs": [
    {
     "name": "stdout",
     "output_type": "stream",
     "text": [
      "1.0164529102565378\n"
     ]
    },
    {
     "data": {
      "image/png": "[encoded data removed]",
      "text/plain": [
       "<Figure size 432x288 with 1 Axes>"
      ]
     },
     "metadata": {
      "needs_background": "light"
     },
     "output_type": "display_data"
    }
   ],
   "source": [
    "\n",
    "\n",
    "N = 50 # number of years\n",
    "n = 5.0 # sort of appr. mean cpount\n",
    "p = 0.5\n",
    "b_negbin_boots = []\n",
    "for _ in range(50):\n",
    "    yearlycount = nbinom.rvs(n=n,p =p, size=N)\n",
    "    Mw_firstsample = []\n",
    "    for yc in yearlycount:\n",
    "        Mw_firstsample = Mw_firstsample + random.choices(Mwr, k=yc)\n",
    "    b = mfd.calc_bvalue(Mw_firstsample, magbin=0.001)\n",
    "    b_negbin_boots.append(b)\n",
    "\n",
    "plt.hist(b_negbin_boots);\n",
    "print(np.mean(b_negbin_boots))"
   ]
  },
  {
   "cell_type": "code",
   "execution_count": null,
   "id": "cdc0b49a",
   "metadata": {},
   "outputs": [],
   "source": []
  }
 ],
 "metadata": {
  "kernelspec": {
   "display_name": "Python 3 (ipykernel)",
   "language": "python",
   "name": "python3"
  },
  "language_info": {
   "codemirror_mode": {
    "name": "ipython",
    "version": 3
   },
   "file_extension": ".py",
   "mimetype": "text/x-python",
   "name": "python",
   "nbconvert_exporter": "python",
   "pygments_lexer": "ipython3",
   "version": "3.8.10"
  }
 },
 "nbformat": 4,
 "nbformat_minor": 5
}

{
 "cells": [
  {
   "cell_type": "code",
   "execution_count": 1,
   "id": "8cdc76d8",
   "metadata": {},
   "outputs": [],
   "source": [
    "import mfd as mfd\n",
    "from random import choices, seed\n",
    "import matplotlib.pyplot as plt \n",
    "import numpy as np"
   ]
  },
  {
   "cell_type": "code",
   "execution_count": 2,
   "id": "d909d55b",
   "metadata": {},
   "outputs": [],
   "source": [
    "bvalue, avalue, Mmin, Mmax =1.0, 5.0, 5.0, 9.01\n",
    "mags = mfd.sample_GRdistr(bvalue, avalue, Mmin, Mmax, \\\n",
    "                   nevents = 100000, mbin=0.001, \\\n",
    "                   rseed=12121);"
   ]
  },
  {
   "cell_type": "code",
   "execution_count": 7,
   "id": "2019b2e2",
   "metadata": {},
   "outputs": [
    {
     "name": "stdout",
     "output_type": "stream",
     "text": [
      "0.9997409846140889\n"
     ]
    }
   ],
   "source": [
    "Mwr = [round(m, 1) for m in mags]\n",
    "b = mfd.calc_bvalue(Mwr, magbin=0.00001)\n",
    "print(b)"
   ]
  },
  {
   "cell_type": "code",
   "execution_count": 8,
   "id": "fafcbed4",
   "metadata": {},
   "outputs": [
    {
     "name": "stdout",
     "output_type": "stream",
     "text": [
      "10.003274758555511\n"
     ]
    },
    {
     "data": {
      "text/plain": [
       "[<matplotlib.lines.Line2D at 0x7f4e86e2acd0>]"
      ]
     },
     "execution_count": 8,
     "metadata": {},
     "output_type": "execute_result"
    },
    {
     "data": {
      "image/png": "[encoded data removed]",
      "text/plain": [
       "<Figure size 432x288 with 1 Axes>"
      ]
     },
     "metadata": {
      "needs_background": "light"
     },
     "output_type": "display_data"
    }
   ],
   "source": [
    "N, M = mfd.distr_empirical(Mwr, magbin = 0.1, doplot=True);\n",
    "a = mfd.calc_avalue(b, M, N)\n",
    "print(a)\n",
    "pN = [10**(a-b*m) for m in M]\n",
    "plt.plot(M, pN, '--')"
   ]
  },
  {
   "cell_type": "code",
   "execution_count": null,
   "id": "4cde4c79",
   "metadata": {},
   "outputs": [],
   "source": []
  },
  {
   "cell_type": "code",
   "execution_count": null,
   "id": "8d33e4ef",
   "metadata": {},
   "outputs": [],
   "source": []
  },
  {
   "cell_type": "code",
   "execution_count": null,
   "id": "8914ee8e",
   "metadata": {},
   "outputs": [],
   "source": []
  },
  {
   "cell_type": "code",
   "execution_count": null,
   "id": "6e0ab044",
   "metadata": {},
   "outputs": [],
   "source": []
  }
 ],
 "metadata": {
  "kernelspec": {
   "display_name": "Python 3 (ipykernel)",
   "language": "python",
   "name": "python3"
  },
  "language_info": {
   "codemirror_mode": {
    "name": "ipython",
    "version": 3
   },
   "file_extension": ".py",
   "mimetype": "text/x-python",
   "name": "python",
   "nbconvert_exporter": "python",
   "pygments_lexer": "ipython3",
   "version": "3.8.10"
  }
 },
 "nbformat": 4,
 "nbformat_minor": 5
}

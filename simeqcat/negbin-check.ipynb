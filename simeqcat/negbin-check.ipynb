{
 "cells": [
  {
   "cell_type": "code",
   "execution_count": 1,
   "id": "1c3fcb7b",
   "metadata": {},
   "outputs": [],
   "source": [
    "import numpy as np\n",
    "import math as math\n",
    "import matplotlib.pyplot as plt\n",
    "from scipy.stats import nbinom"
   ]
  },
  {
   "cell_type": "code",
   "execution_count": 2,
   "id": "e22ff1e8",
   "metadata": {},
   "outputs": [],
   "source": [
    "def nbinom_prob(maxx, mu, prob ='pdf'):\n",
    "    kk = [k for k in range(maxx+1)]\n",
    "    if prob=='pdf':\n",
    "        p = [nbinom.pmf(k=k, mu=mu) for k in kk]\n",
    "    elif prob =='cdf':\n",
    "        p = [nbinom.cdf(k=k, mu=mu) for k in kk]\n",
    "    else:\n",
    "        raise exception('prob is not defined')\n",
    "    return kk,p\n",
    "\n",
    "def ecdf(x):\n",
    "    xx = np.sort(x)\n",
    "    cdf = np.linspace(0, 1, len(xx), endpoint=False)\n",
    "    return(xx, cdf)"
   ]
  },
  {
   "cell_type": "code",
   "execution_count": 3,
   "id": "9a347e9d",
   "metadata": {},
   "outputs": [
    {
     "ename": "TypeError",
     "evalue": "_parse_args_rvs() got an unexpected keyword argument 'mu'",
     "output_type": "error",
     "traceback": [
      "\u001b[0;31m---------------------------------------------------------------------------\u001b[0m",
      "\u001b[0;31mTypeError\u001b[0m                                 Traceback (most recent call last)",
      "Input \u001b[0;32mIn [3]\u001b[0m, in \u001b[0;36m<cell line: 5>\u001b[0;34m()\u001b[0m\n\u001b[1;32m      2\u001b[0m N \u001b[38;5;241m=\u001b[39m \u001b[38;5;241m100\u001b[39m\n\u001b[1;32m      3\u001b[0m mu \u001b[38;5;241m=\u001b[39m \u001b[38;5;241m5\u001b[39m\n\u001b[0;32m----> 5\u001b[0m x \u001b[38;5;241m=\u001b[39m \u001b[43mnbinom\u001b[49m\u001b[38;5;241;43m.\u001b[39;49m\u001b[43mrvs\u001b[49m\u001b[43m(\u001b[49m\u001b[43mmu\u001b[49m\u001b[38;5;241;43m=\u001b[39;49m\u001b[43mmu\u001b[49m\u001b[43m,\u001b[49m\u001b[43m \u001b[49m\u001b[43msize\u001b[49m\u001b[38;5;241;43m=\u001b[39;49m\u001b[43mN\u001b[49m\u001b[43m)\u001b[49m\n\u001b[1;32m      6\u001b[0m kk, tcdf \u001b[38;5;241m=\u001b[39m poisson_prob(\u001b[38;5;28mmax\u001b[39m(x), mu\u001b[38;5;241m=\u001b[39mnp\u001b[38;5;241m.\u001b[39mmean(x), prob \u001b[38;5;241m=\u001b[39m\u001b[38;5;124m'\u001b[39m\u001b[38;5;124mcdf\u001b[39m\u001b[38;5;124m'\u001b[39m)\n\u001b[1;32m      7\u001b[0m plt\u001b[38;5;241m.\u001b[39mplot(kk, tcdf, \u001b[38;5;124m'\u001b[39m\u001b[38;5;124mk--\u001b[39m\u001b[38;5;124m'\u001b[39m);\n",
      "File \u001b[0;32m~/openquake/lib/python3.8/site-packages/scipy/stats/_distn_infrastructure.py:3117\u001b[0m, in \u001b[0;36mrv_discrete.rvs\u001b[0;34m(self, *args, **kwargs)\u001b[0m\n\u001b[1;32m   3088\u001b[0m \u001b[38;5;124;03m\"\"\"Random variates of given type.\u001b[39;00m\n\u001b[1;32m   3089\u001b[0m \n\u001b[1;32m   3090\u001b[0m \u001b[38;5;124;03mParameters\u001b[39;00m\n\u001b[0;32m   (...)\u001b[0m\n\u001b[1;32m   3114\u001b[0m \n\u001b[1;32m   3115\u001b[0m \u001b[38;5;124;03m\"\"\"\u001b[39;00m\n\u001b[1;32m   3116\u001b[0m kwargs[\u001b[38;5;124m'\u001b[39m\u001b[38;5;124mdiscrete\u001b[39m\u001b[38;5;124m'\u001b[39m] \u001b[38;5;241m=\u001b[39m \u001b[38;5;28;01mTrue\u001b[39;00m\n\u001b[0;32m-> 3117\u001b[0m \u001b[38;5;28;01mreturn\u001b[39;00m \u001b[38;5;28;43msuper\u001b[39;49m\u001b[43m(\u001b[49m\u001b[43m)\u001b[49m\u001b[38;5;241;43m.\u001b[39;49m\u001b[43mrvs\u001b[49m\u001b[43m(\u001b[49m\u001b[38;5;241;43m*\u001b[39;49m\u001b[43margs\u001b[49m\u001b[43m,\u001b[49m\u001b[43m \u001b[49m\u001b[38;5;241;43m*\u001b[39;49m\u001b[38;5;241;43m*\u001b[39;49m\u001b[43mkwargs\u001b[49m\u001b[43m)\u001b[49m\n",
      "File \u001b[0;32m~/openquake/lib/python3.8/site-packages/scipy/stats/_distn_infrastructure.py:1064\u001b[0m, in \u001b[0;36mrv_generic.rvs\u001b[0;34m(self, *args, **kwds)\u001b[0m\n\u001b[1;32m   1062\u001b[0m discrete \u001b[38;5;241m=\u001b[39m kwds\u001b[38;5;241m.\u001b[39mpop(\u001b[38;5;124m'\u001b[39m\u001b[38;5;124mdiscrete\u001b[39m\u001b[38;5;124m'\u001b[39m, \u001b[38;5;28;01mNone\u001b[39;00m)\n\u001b[1;32m   1063\u001b[0m rndm \u001b[38;5;241m=\u001b[39m kwds\u001b[38;5;241m.\u001b[39mpop(\u001b[38;5;124m'\u001b[39m\u001b[38;5;124mrandom_state\u001b[39m\u001b[38;5;124m'\u001b[39m, \u001b[38;5;28;01mNone\u001b[39;00m)\n\u001b[0;32m-> 1064\u001b[0m args, loc, scale, size \u001b[38;5;241m=\u001b[39m \u001b[38;5;28;43mself\u001b[39;49m\u001b[38;5;241;43m.\u001b[39;49m\u001b[43m_parse_args_rvs\u001b[49m\u001b[43m(\u001b[49m\u001b[38;5;241;43m*\u001b[39;49m\u001b[43margs\u001b[49m\u001b[43m,\u001b[49m\u001b[43m \u001b[49m\u001b[38;5;241;43m*\u001b[39;49m\u001b[38;5;241;43m*\u001b[39;49m\u001b[43mkwds\u001b[49m\u001b[43m)\u001b[49m\n\u001b[1;32m   1065\u001b[0m cond \u001b[38;5;241m=\u001b[39m logical_and(\u001b[38;5;28mself\u001b[39m\u001b[38;5;241m.\u001b[39m_argcheck(\u001b[38;5;241m*\u001b[39margs), (scale \u001b[38;5;241m>\u001b[39m\u001b[38;5;241m=\u001b[39m \u001b[38;5;241m0\u001b[39m))\n\u001b[1;32m   1066\u001b[0m \u001b[38;5;28;01mif\u001b[39;00m \u001b[38;5;129;01mnot\u001b[39;00m np\u001b[38;5;241m.\u001b[39mall(cond):\n",
      "\u001b[0;31mTypeError\u001b[0m: _parse_args_rvs() got an unexpected keyword argument 'mu'"
     ]
    }
   ],
   "source": [
    "# generate a poisson random number\n",
    "N = 100\n",
    "mu = 5\n",
    "\n",
    "x = nbinom.rvs(mu=mu, size=N)\n",
    "kk, tcdf = poisson_prob(max(x), mu=np.mean(x), prob ='cdf')\n",
    "plt.plot(kk, tcdf, 'k--');\n",
    "xx, cdf = ecdf(x)\n",
    "plt.plot(xx, cdf, 'r-');"
   ]
  },
  {
   "cell_type": "code",
   "execution_count": null,
   "id": "58af4168",
   "metadata": {},
   "outputs": [],
   "source": [
    "kk, tpdf = nbinom_prob(max(x), mu=np.mean(x), prob ='pdf')\n",
    "plt.plot(kk, tpdf, 'k--');\n",
    "plt.hist(x, density=True);"
   ]
  },
  {
   "cell_type": "code",
   "execution_count": null,
   "id": "20a22acc",
   "metadata": {},
   "outputs": [],
   "source": []
  }
 ],
 "metadata": {
  "kernelspec": {
   "display_name": "Python 3 (ipykernel)",
   "language": "python",
   "name": "python3"
  },
  "language_info": {
   "codemirror_mode": {
    "name": "ipython",
    "version": 3
   },
   "file_extension": ".py",
   "mimetype": "text/x-python",
   "name": "python",
   "nbconvert_exporter": "python",
   "pygments_lexer": "ipython3",
   "version": "3.8.10"
  }
 },
 "nbformat": 4,
 "nbformat_minor": 5
}

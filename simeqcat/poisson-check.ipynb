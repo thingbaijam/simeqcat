{
 "cells": [
  {
   "cell_type": "code",
   "execution_count": 1,
   "id": "1c3fcb7b",
   "metadata": {},
   "outputs": [],
   "source": [
    "import numpy as np\n",
    "import math as math\n",
    "import matplotlib.pyplot as plt\n",
    "from scipy.stats import poisson"
   ]
  },
  {
   "cell_type": "code",
   "execution_count": 9,
   "id": "5d12313c",
   "metadata": {},
   "outputs": [
    {
     "name": "stdout",
     "output_type": "stream",
     "text": [
      "Collecting statsmodels\n",
      "  Using cached statsmodels-0.13.5-cp38-cp38-manylinux_2_17_x86_64.manylinux2014_x86_64.whl (9.9 MB)\n",
      "Requirement already satisfied: packaging>=21.3 in /home/kirant/miniconda3/envs/oqthingy/lib/python3.8/site-packages (from statsmodels) (21.3)\n",
      "Requirement already satisfied: pandas>=0.25 in /home/kirant/.local/lib/python3.8/site-packages (from statsmodels) (1.3.4)\n",
      "Requirement already satisfied: scipy>=1.3 in /home/kirant/miniconda3/envs/oqthingy/lib/python3.8/site-packages (from statsmodels) (1.8.0)\n",
      "Requirement already satisfied: numpy>=1.17 in /home/kirant/.local/lib/python3.8/site-packages (from statsmodels) (1.21.4)\n",
      "Collecting patsy>=0.5.2\n",
      "  Using cached patsy-0.5.3-py2.py3-none-any.whl (233 kB)\n",
      "Requirement already satisfied: pyparsing!=3.0.5,>=2.0.2 in /home/kirant/.local/lib/python3.8/site-packages (from packaging>=21.3->statsmodels) (2.4.7)\n",
      "Requirement already satisfied: pytz>=2017.3 in /home/kirant/miniconda3/envs/oqthingy/lib/python3.8/site-packages (from pandas>=0.25->statsmodels) (2021.3)\n",
      "Requirement already satisfied: python-dateutil>=2.7.3 in /home/kirant/miniconda3/envs/oqthingy/lib/python3.8/site-packages (from pandas>=0.25->statsmodels) (2.8.2)\n",
      "Requirement already satisfied: six in /home/kirant/miniconda3/envs/oqthingy/lib/python3.8/site-packages (from patsy>=0.5.2->statsmodels) (1.16.0)\n",
      "Installing collected packages: patsy, statsmodels\n",
      "Successfully installed patsy-0.5.3 statsmodels-0.13.5\n",
      "\u001b[33mWARNING: You are using pip version 22.0.4; however, version 22.3.1 is available.\n",
      "You should consider upgrading via the '/home/kirant/miniconda3/envs/oqthingy/bin/python -m pip install --upgrade pip' command.\u001b[0m\u001b[33m\n",
      "\u001b[0m"
     ]
    }
   ],
   "source": [
    "#import sys\n",
    "#!{sys.executable} -m pip install statsmodels"
   ]
  },
  {
   "cell_type": "code",
   "execution_count": 2,
   "id": "e22ff1e8",
   "metadata": {},
   "outputs": [],
   "source": [
    "def poisson_prob(maxx, mu, dist ='pdf'):\n",
    "    kk = [k for k in range(maxx+1)]\n",
    "    if dist=='pdf':\n",
    "        prob = [poisson.pmf(k=k, mu=mu) for k in kk]\n",
    "    elif dist =='cdf':\n",
    "        prob = [poisson.cdf(k=k, mu=mu) for k in kk]\n",
    "    else:\n",
    "        raise exception('prob is not defined')\n",
    "    return kk,prob\n",
    "\n",
    "def ecdf(x):\n",
    "    xx = np.sort(x)\n",
    "    cdf = np.linspace(0, 1, len(xx), endpoint=False)\n",
    "    return(xx, cdf)"
   ]
  },
  {
   "cell_type": "code",
   "execution_count": 3,
   "id": "9a347e9d",
   "metadata": {},
   "outputs": [
    {
     "data": {
      "image/png": "[encoded data removed]",
      "text/plain": [
       "<Figure size 432x288 with 1 Axes>"
      ]
     },
     "metadata": {
      "needs_background": "light"
     },
     "output_type": "display_data"
    }
   ],
   "source": [
    "# generate a poisson random number\n",
    "N = 100\n",
    "mu = 5\n",
    "\n",
    "x = poisson.rvs(mu=mu, size=N)\n",
    "kk, tcdf = poisson_prob(max(x), mu=np.mean(x), dist ='cdf')\n",
    "plt.plot(kk, tcdf, 'k--');\n",
    "xx, cdf = ecdf(x)\n",
    "plt.plot(xx, cdf, 'r-');"
   ]
  },
  {
   "cell_type": "code",
   "execution_count": 4,
   "id": "58af4168",
   "metadata": {},
   "outputs": [
    {
     "data": {
      "image/png": "[encoded data removed]",
      "text/plain": [
       "<Figure size 432x288 with 1 Axes>"
      ]
     },
     "metadata": {
      "needs_background": "light"
     },
     "output_type": "display_data"
    }
   ],
   "source": [
    "kk, tpdf = poisson_prob(max(x), mu=np.mean(x), dist ='pdf')\n",
    "plt.plot(kk, tpdf, 'k--');\n",
    "plt.hist(x, density=True);"
   ]
  },
  {
   "cell_type": "code",
   "execution_count": 22,
   "id": "20a22acc",
   "metadata": {},
   "outputs": [
    {
     "name": "stdout",
     "output_type": "stream",
     "text": [
      "Optimization terminated successfully.\n",
      "         Current function value: 2.265863\n",
      "         Iterations: 13\n",
      "         Function evaluations: 14\n",
      "         Gradient evaluations: 14\n",
      "                     NegativeBinomial Regression Results                      \n",
      "==============================================================================\n",
      "Dep. Variable:                      y   No. Observations:                  100\n",
      "Model:               NegativeBinomial   Df Residuals:                       99\n",
      "Method:                           MLE   Df Model:                            0\n",
      "Date:                Mon, 07 Nov 2022   Pseudo R-squ.:              -6.386e-09\n",
      "Time:                        16:28:27   Log-Likelihood:                -226.59\n",
      "converged:                       True   LL-Null:                       -226.59\n",
      "Covariance Type:            nonrobust   LLR p-value:                       nan\n",
      "==============================================================================\n",
      "                 coef    std err          z      P>|z|      [0.025      0.975]\n",
      "------------------------------------------------------------------------------\n",
      "const          1.6696      0.045     37.085      0.000       1.581       1.758\n",
      "alpha          0.0144      0.029      0.498      0.619      -0.042       0.071\n",
      "==============================================================================\n"
     ]
    }
   ],
   "source": [
    "import statsmodels.api as sm\n",
    "X = np.ones_like(x)\n",
    "res = sm.NegativeBinomial(x,X).fit(start_params=[1,1])\n",
    "print(res.summary())"
   ]
  },
  {
   "cell_type": "code",
   "execution_count": null,
   "id": "df6eac88",
   "metadata": {},
   "outputs": [],
   "source": []
  }
 ],
 "metadata": {
  "kernelspec": {
   "display_name": "Python 3 (ipykernel)",
   "language": "python",
   "name": "python3"
  },
  "language_info": {
   "codemirror_mode": {
    "name": "ipython",
    "version": 3
   },
   "file_extension": ".py",
   "mimetype": "text/x-python",
   "name": "python",
   "nbconvert_exporter": "python",
   "pygments_lexer": "ipython3",
   "version": "3.8.10"
  }
 },
 "nbformat": 4,
 "nbformat_minor": 5
}
